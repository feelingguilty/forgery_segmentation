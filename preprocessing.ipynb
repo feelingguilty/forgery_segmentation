{
 "cells": [
  {
   "cell_type": "code",
   "execution_count": 16,
   "id": "0281686b-3c03-464e-a60b-6bb15936f71d",
   "metadata": {},
   "outputs": [],
   "source": [
    "import os \n",
    "from tqdm import tqdm\n",
    "import numpy as np\n",
    "import shutil"
   ]
  },
  {
   "cell_type": "code",
   "execution_count": 3,
   "id": "4eb2f332-8927-4957-927a-afe5e8e31bd1",
   "metadata": {},
   "outputs": [],
   "source": [
    "os.makedirs('C:\\\\Users\\\\amrit\\\\Downloads\\\\forgery\\\\labels')\n",
    "os.makedirs('C:\\\\Users\\\\amrit\\\\Downloads\\\\forgery\\\\images')\n",
    "os.makedirs('C:\\\\Users\\\\amrit\\\\Downloads\\\\forgery\\\\masks')"
   ]
  },
  {
   "cell_type": "code",
   "execution_count": 4,
   "id": "6ce4764f-f44d-4497-b246-0de020bc8557",
   "metadata": {},
   "outputs": [
    {
     "name": "stdout",
     "output_type": "stream",
     "text": [
      "Total Image found: 10402\n"
     ]
    }
   ],
   "source": [
    "images = os.listdir('C:\\\\Users\\\\amrit\\\\Downloads\\\\forgery\\\\forgery')\n",
    "print('Total Image found: {}'.format(len(images)))"
   ]
  },
  {
   "cell_type": "code",
   "execution_count": 17,
   "id": "5c77e6ee-bf8b-4a02-b2e8-5ae5b16e8eba",
   "metadata": {},
   "outputs": [
    {
     "name": "stderr",
     "output_type": "stream",
     "text": [
      "100%|████████████████████████████████████████████████████████████████████████████| 10402/10402 [01:47<00:00, 96.63it/s]\n"
     ]
    }
   ],
   "source": [
    "for image in tqdm(images):\n",
    "    image_parts = image.split('_')\n",
    "\n",
    "    if len(image_parts) == 2:\n",
    "        if 'B' in image:\n",
    "            shutil.copy(f'C:\\\\Users\\\\amrit\\\\Downloads\\\\forgery\\\\forgery\\\\{image}', 'C:\\\\Users\\\\amrit\\\\Downloads\\\\forgery\\\\labels\\\\')\n",
    "        elif 'M' in image:\n",
    "            shutil.copy(f'C:\\\\Users\\\\amrit\\\\Downloads\\\\forgery\\\\forgery\\\\{image}', 'C:\\\\Users\\\\amrit\\\\Downloads\\\\forgery\\\\masks\\\\')\n",
    "\n",
    "    elif len(image_parts) > 2:\n",
    "        if 'F' in image or 'O' in image:\n",
    "            shutil.copy(f'C:\\\\Users\\\\amrit\\\\Downloads\\\\forgery\\\\forgery\\\\{image}', 'C:\\\\Users\\\\amrit\\\\Downloads\\\\forgery\\\\images\\\\')"
   ]
  },
  {
   "cell_type": "code",
   "execution_count": null,
   "id": "892415b1-897f-461a-9f43-341876bf8cb8",
   "metadata": {},
   "outputs": [],
   "source": []
  }
 ],
 "metadata": {
  "kernelspec": {
   "display_name": "tf-kernal",
   "language": "python",
   "name": "tf-kernal"
  },
  "language_info": {
   "codemirror_mode": {
    "name": "ipython",
    "version": 3
   },
   "file_extension": ".py",
   "mimetype": "text/x-python",
   "name": "python",
   "nbconvert_exporter": "python",
   "pygments_lexer": "ipython3",
   "version": "3.11.9"
  }
 },
 "nbformat": 4,
 "nbformat_minor": 5
}
